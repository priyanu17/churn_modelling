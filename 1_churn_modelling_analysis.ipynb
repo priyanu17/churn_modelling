{
  "nbformat": 4,
  "nbformat_minor": 0,
  "metadata": {
    "colab": {
      "name": "10_15/6/20_churn_modelling",
      "provenance": [],
      "collapsed_sections": [],
      "authorship_tag": "ABX9TyNc9MWxq4sLTX8rs4sXkajl",
      "include_colab_link": true
    },
    "kernelspec": {
      "name": "python3",
      "display_name": "Python 3"
    }
  },
  "cells": [
    {
      "cell_type": "markdown",
      "metadata": {
        "id": "view-in-github",
        "colab_type": "text"
      },
      "source": [
        "<a href=\"https://colab.research.google.com/github/priyanu17/churn_modelling/blob/master/churn_modelling_analysis.ipynb\" target=\"_parent\"><img src=\"https://colab.research.google.com/assets/colab-badge.svg\" alt=\"Open In Colab\"/></a>"
      ]
    },
    {
      "cell_type": "code",
      "metadata": {
        "id": "RgFD8zTzNUVb",
        "colab_type": "code",
        "colab": {}
      },
      "source": [
        "import numpy as np\n",
        "import pandas as pd\n"
      ],
      "execution_count": 0,
      "outputs": []
    },
    {
      "cell_type": "code",
      "metadata": {
        "id": "3qdhFpJqFU-9",
        "colab_type": "code",
        "colab": {
          "base_uri": "https://localhost:8080/",
          "height": 34
        },
        "outputId": "ac168ad7-6ab4-4ab0-c7b9-6315cb0b6454"
      },
      "source": [
        "import tensorflow as tf\n",
        "print(tf.__version__)"
      ],
      "execution_count": 11,
      "outputs": [
        {
          "output_type": "stream",
          "text": [
            "2.2.0\n"
          ],
          "name": "stdout"
        }
      ]
    },
    {
      "cell_type": "code",
      "metadata": {
        "id": "ZRgabXe2FZTJ",
        "colab_type": "code",
        "colab": {}
      },
      "source": [
        "## Libraries loaded"
      ],
      "execution_count": 0,
      "outputs": []
    },
    {
      "cell_type": "code",
      "metadata": {
        "id": "2R3m4SE9FbNz",
        "colab_type": "code",
        "colab": {}
      },
      "source": [
        "## Problem Statement : chrun modelling on fictional company"
      ],
      "execution_count": 0,
      "outputs": []
    },
    {
      "cell_type": "code",
      "metadata": {
        "id": "CwqL2Kw8Fh_d",
        "colab_type": "code",
        "colab": {}
      },
      "source": [
        "churn_data = pd.read_csv(\"Churn_Modelling.csv\")"
      ],
      "execution_count": 0,
      "outputs": []
    },
    {
      "cell_type": "code",
      "metadata": {
        "id": "WmblEGSOHQ68",
        "colab_type": "code",
        "colab": {
          "base_uri": "https://localhost:8080/",
          "height": 195
        },
        "outputId": "064071fc-ab35-4efa-b3df-de88a274d051"
      },
      "source": [
        "churn_data.head()"
      ],
      "execution_count": 15,
      "outputs": [
        {
          "output_type": "execute_result",
          "data": {
            "text/html": [
              "<div>\n",
              "<style scoped>\n",
              "    .dataframe tbody tr th:only-of-type {\n",
              "        vertical-align: middle;\n",
              "    }\n",
              "\n",
              "    .dataframe tbody tr th {\n",
              "        vertical-align: top;\n",
              "    }\n",
              "\n",
              "    .dataframe thead th {\n",
              "        text-align: right;\n",
              "    }\n",
              "</style>\n",
              "<table border=\"1\" class=\"dataframe\">\n",
              "  <thead>\n",
              "    <tr style=\"text-align: right;\">\n",
              "      <th></th>\n",
              "      <th>RowNumber</th>\n",
              "      <th>CustomerId</th>\n",
              "      <th>Surname</th>\n",
              "      <th>CreditScore</th>\n",
              "      <th>Geography</th>\n",
              "      <th>Gender</th>\n",
              "      <th>Age</th>\n",
              "      <th>Tenure</th>\n",
              "      <th>Balance</th>\n",
              "      <th>NumOfProducts</th>\n",
              "      <th>HasCrCard</th>\n",
              "      <th>IsActiveMember</th>\n",
              "      <th>EstimatedSalary</th>\n",
              "      <th>Exited</th>\n",
              "    </tr>\n",
              "  </thead>\n",
              "  <tbody>\n",
              "    <tr>\n",
              "      <th>0</th>\n",
              "      <td>1</td>\n",
              "      <td>15634602</td>\n",
              "      <td>Hargrave</td>\n",
              "      <td>619</td>\n",
              "      <td>France</td>\n",
              "      <td>Female</td>\n",
              "      <td>42</td>\n",
              "      <td>2</td>\n",
              "      <td>0.00</td>\n",
              "      <td>1</td>\n",
              "      <td>1</td>\n",
              "      <td>1</td>\n",
              "      <td>101348.88</td>\n",
              "      <td>1</td>\n",
              "    </tr>\n",
              "    <tr>\n",
              "      <th>1</th>\n",
              "      <td>2</td>\n",
              "      <td>15647311</td>\n",
              "      <td>Hill</td>\n",
              "      <td>608</td>\n",
              "      <td>Spain</td>\n",
              "      <td>Female</td>\n",
              "      <td>41</td>\n",
              "      <td>1</td>\n",
              "      <td>83807.86</td>\n",
              "      <td>1</td>\n",
              "      <td>0</td>\n",
              "      <td>1</td>\n",
              "      <td>112542.58</td>\n",
              "      <td>0</td>\n",
              "    </tr>\n",
              "    <tr>\n",
              "      <th>2</th>\n",
              "      <td>3</td>\n",
              "      <td>15619304</td>\n",
              "      <td>Onio</td>\n",
              "      <td>502</td>\n",
              "      <td>France</td>\n",
              "      <td>Female</td>\n",
              "      <td>42</td>\n",
              "      <td>8</td>\n",
              "      <td>159660.80</td>\n",
              "      <td>3</td>\n",
              "      <td>1</td>\n",
              "      <td>0</td>\n",
              "      <td>113931.57</td>\n",
              "      <td>1</td>\n",
              "    </tr>\n",
              "    <tr>\n",
              "      <th>3</th>\n",
              "      <td>4</td>\n",
              "      <td>15701354</td>\n",
              "      <td>Boni</td>\n",
              "      <td>699</td>\n",
              "      <td>France</td>\n",
              "      <td>Female</td>\n",
              "      <td>39</td>\n",
              "      <td>1</td>\n",
              "      <td>0.00</td>\n",
              "      <td>2</td>\n",
              "      <td>0</td>\n",
              "      <td>0</td>\n",
              "      <td>93826.63</td>\n",
              "      <td>0</td>\n",
              "    </tr>\n",
              "    <tr>\n",
              "      <th>4</th>\n",
              "      <td>5</td>\n",
              "      <td>15737888</td>\n",
              "      <td>Mitchell</td>\n",
              "      <td>850</td>\n",
              "      <td>Spain</td>\n",
              "      <td>Female</td>\n",
              "      <td>43</td>\n",
              "      <td>2</td>\n",
              "      <td>125510.82</td>\n",
              "      <td>1</td>\n",
              "      <td>1</td>\n",
              "      <td>1</td>\n",
              "      <td>79084.10</td>\n",
              "      <td>0</td>\n",
              "    </tr>\n",
              "  </tbody>\n",
              "</table>\n",
              "</div>"
            ],
            "text/plain": [
              "   RowNumber  CustomerId   Surname  ...  IsActiveMember EstimatedSalary Exited\n",
              "0          1    15634602  Hargrave  ...               1       101348.88      1\n",
              "1          2    15647311      Hill  ...               1       112542.58      0\n",
              "2          3    15619304      Onio  ...               0       113931.57      1\n",
              "3          4    15701354      Boni  ...               0        93826.63      0\n",
              "4          5    15737888  Mitchell  ...               1        79084.10      0\n",
              "\n",
              "[5 rows x 14 columns]"
            ]
          },
          "metadata": {
            "tags": []
          },
          "execution_count": 15
        }
      ]
    },
    {
      "cell_type": "code",
      "metadata": {
        "id": "2cVk5T9ZHTbI",
        "colab_type": "code",
        "colab": {
          "base_uri": "https://localhost:8080/",
          "height": 34
        },
        "outputId": "fffda2ce-b450-4d09-a534-e780cbfb8a87"
      },
      "source": [
        "churn_data.shape"
      ],
      "execution_count": 16,
      "outputs": [
        {
          "output_type": "execute_result",
          "data": {
            "text/plain": [
              "(10000, 14)"
            ]
          },
          "metadata": {
            "tags": []
          },
          "execution_count": 16
        }
      ]
    },
    {
      "cell_type": "code",
      "metadata": {
        "id": "Dxg1p7dTHXy_",
        "colab_type": "code",
        "colab": {
          "base_uri": "https://localhost:8080/",
          "height": 370
        },
        "outputId": "9e91e289-9b29-47a3-f6d4-55f6effbcab3"
      },
      "source": [
        "churn_data.info()"
      ],
      "execution_count": 17,
      "outputs": [
        {
          "output_type": "stream",
          "text": [
            "<class 'pandas.core.frame.DataFrame'>\n",
            "RangeIndex: 10000 entries, 0 to 9999\n",
            "Data columns (total 14 columns):\n",
            " #   Column           Non-Null Count  Dtype  \n",
            "---  ------           --------------  -----  \n",
            " 0   RowNumber        10000 non-null  int64  \n",
            " 1   CustomerId       10000 non-null  int64  \n",
            " 2   Surname          10000 non-null  object \n",
            " 3   CreditScore      10000 non-null  int64  \n",
            " 4   Geography        10000 non-null  object \n",
            " 5   Gender           10000 non-null  object \n",
            " 6   Age              10000 non-null  int64  \n",
            " 7   Tenure           10000 non-null  int64  \n",
            " 8   Balance          10000 non-null  float64\n",
            " 9   NumOfProducts    10000 non-null  int64  \n",
            " 10  HasCrCard        10000 non-null  int64  \n",
            " 11  IsActiveMember   10000 non-null  int64  \n",
            " 12  EstimatedSalary  10000 non-null  float64\n",
            " 13  Exited           10000 non-null  int64  \n",
            "dtypes: float64(2), int64(9), object(3)\n",
            "memory usage: 1.1+ MB\n"
          ],
          "name": "stdout"
        }
      ]
    },
    {
      "cell_type": "code",
      "metadata": {
        "id": "ksoMYkHiHZdf",
        "colab_type": "code",
        "colab": {
          "base_uri": "https://localhost:8080/",
          "height": 373
        },
        "outputId": "e596ec88-f3ae-46ca-9cf7-b494fcf661f5"
      },
      "source": [
        "churn_data.describe().transpose()"
      ],
      "execution_count": 19,
      "outputs": [
        {
          "output_type": "execute_result",
          "data": {
            "text/html": [
              "<div>\n",
              "<style scoped>\n",
              "    .dataframe tbody tr th:only-of-type {\n",
              "        vertical-align: middle;\n",
              "    }\n",
              "\n",
              "    .dataframe tbody tr th {\n",
              "        vertical-align: top;\n",
              "    }\n",
              "\n",
              "    .dataframe thead th {\n",
              "        text-align: right;\n",
              "    }\n",
              "</style>\n",
              "<table border=\"1\" class=\"dataframe\">\n",
              "  <thead>\n",
              "    <tr style=\"text-align: right;\">\n",
              "      <th></th>\n",
              "      <th>count</th>\n",
              "      <th>mean</th>\n",
              "      <th>std</th>\n",
              "      <th>min</th>\n",
              "      <th>25%</th>\n",
              "      <th>50%</th>\n",
              "      <th>75%</th>\n",
              "      <th>max</th>\n",
              "    </tr>\n",
              "  </thead>\n",
              "  <tbody>\n",
              "    <tr>\n",
              "      <th>RowNumber</th>\n",
              "      <td>10000.0</td>\n",
              "      <td>5.000500e+03</td>\n",
              "      <td>2886.895680</td>\n",
              "      <td>1.00</td>\n",
              "      <td>2500.75</td>\n",
              "      <td>5.000500e+03</td>\n",
              "      <td>7.500250e+03</td>\n",
              "      <td>10000.00</td>\n",
              "    </tr>\n",
              "    <tr>\n",
              "      <th>CustomerId</th>\n",
              "      <td>10000.0</td>\n",
              "      <td>1.569094e+07</td>\n",
              "      <td>71936.186123</td>\n",
              "      <td>15565701.00</td>\n",
              "      <td>15628528.25</td>\n",
              "      <td>1.569074e+07</td>\n",
              "      <td>1.575323e+07</td>\n",
              "      <td>15815690.00</td>\n",
              "    </tr>\n",
              "    <tr>\n",
              "      <th>CreditScore</th>\n",
              "      <td>10000.0</td>\n",
              "      <td>6.505288e+02</td>\n",
              "      <td>96.653299</td>\n",
              "      <td>350.00</td>\n",
              "      <td>584.00</td>\n",
              "      <td>6.520000e+02</td>\n",
              "      <td>7.180000e+02</td>\n",
              "      <td>850.00</td>\n",
              "    </tr>\n",
              "    <tr>\n",
              "      <th>Age</th>\n",
              "      <td>10000.0</td>\n",
              "      <td>3.892180e+01</td>\n",
              "      <td>10.487806</td>\n",
              "      <td>18.00</td>\n",
              "      <td>32.00</td>\n",
              "      <td>3.700000e+01</td>\n",
              "      <td>4.400000e+01</td>\n",
              "      <td>92.00</td>\n",
              "    </tr>\n",
              "    <tr>\n",
              "      <th>Tenure</th>\n",
              "      <td>10000.0</td>\n",
              "      <td>5.012800e+00</td>\n",
              "      <td>2.892174</td>\n",
              "      <td>0.00</td>\n",
              "      <td>3.00</td>\n",
              "      <td>5.000000e+00</td>\n",
              "      <td>7.000000e+00</td>\n",
              "      <td>10.00</td>\n",
              "    </tr>\n",
              "    <tr>\n",
              "      <th>Balance</th>\n",
              "      <td>10000.0</td>\n",
              "      <td>7.648589e+04</td>\n",
              "      <td>62397.405202</td>\n",
              "      <td>0.00</td>\n",
              "      <td>0.00</td>\n",
              "      <td>9.719854e+04</td>\n",
              "      <td>1.276442e+05</td>\n",
              "      <td>250898.09</td>\n",
              "    </tr>\n",
              "    <tr>\n",
              "      <th>NumOfProducts</th>\n",
              "      <td>10000.0</td>\n",
              "      <td>1.530200e+00</td>\n",
              "      <td>0.581654</td>\n",
              "      <td>1.00</td>\n",
              "      <td>1.00</td>\n",
              "      <td>1.000000e+00</td>\n",
              "      <td>2.000000e+00</td>\n",
              "      <td>4.00</td>\n",
              "    </tr>\n",
              "    <tr>\n",
              "      <th>HasCrCard</th>\n",
              "      <td>10000.0</td>\n",
              "      <td>7.055000e-01</td>\n",
              "      <td>0.455840</td>\n",
              "      <td>0.00</td>\n",
              "      <td>0.00</td>\n",
              "      <td>1.000000e+00</td>\n",
              "      <td>1.000000e+00</td>\n",
              "      <td>1.00</td>\n",
              "    </tr>\n",
              "    <tr>\n",
              "      <th>IsActiveMember</th>\n",
              "      <td>10000.0</td>\n",
              "      <td>5.151000e-01</td>\n",
              "      <td>0.499797</td>\n",
              "      <td>0.00</td>\n",
              "      <td>0.00</td>\n",
              "      <td>1.000000e+00</td>\n",
              "      <td>1.000000e+00</td>\n",
              "      <td>1.00</td>\n",
              "    </tr>\n",
              "    <tr>\n",
              "      <th>EstimatedSalary</th>\n",
              "      <td>10000.0</td>\n",
              "      <td>1.000902e+05</td>\n",
              "      <td>57510.492818</td>\n",
              "      <td>11.58</td>\n",
              "      <td>51002.11</td>\n",
              "      <td>1.001939e+05</td>\n",
              "      <td>1.493882e+05</td>\n",
              "      <td>199992.48</td>\n",
              "    </tr>\n",
              "    <tr>\n",
              "      <th>Exited</th>\n",
              "      <td>10000.0</td>\n",
              "      <td>2.037000e-01</td>\n",
              "      <td>0.402769</td>\n",
              "      <td>0.00</td>\n",
              "      <td>0.00</td>\n",
              "      <td>0.000000e+00</td>\n",
              "      <td>0.000000e+00</td>\n",
              "      <td>1.00</td>\n",
              "    </tr>\n",
              "  </tbody>\n",
              "</table>\n",
              "</div>"
            ],
            "text/plain": [
              "                   count          mean  ...           75%          max\n",
              "RowNumber        10000.0  5.000500e+03  ...  7.500250e+03     10000.00\n",
              "CustomerId       10000.0  1.569094e+07  ...  1.575323e+07  15815690.00\n",
              "CreditScore      10000.0  6.505288e+02  ...  7.180000e+02       850.00\n",
              "Age              10000.0  3.892180e+01  ...  4.400000e+01        92.00\n",
              "Tenure           10000.0  5.012800e+00  ...  7.000000e+00        10.00\n",
              "Balance          10000.0  7.648589e+04  ...  1.276442e+05    250898.09\n",
              "NumOfProducts    10000.0  1.530200e+00  ...  2.000000e+00         4.00\n",
              "HasCrCard        10000.0  7.055000e-01  ...  1.000000e+00         1.00\n",
              "IsActiveMember   10000.0  5.151000e-01  ...  1.000000e+00         1.00\n",
              "EstimatedSalary  10000.0  1.000902e+05  ...  1.493882e+05    199992.48\n",
              "Exited           10000.0  2.037000e-01  ...  0.000000e+00         1.00\n",
              "\n",
              "[11 rows x 8 columns]"
            ]
          },
          "metadata": {
            "tags": []
          },
          "execution_count": 19
        }
      ]
    },
    {
      "cell_type": "code",
      "metadata": {
        "id": "dCTjc3BjHbLO",
        "colab_type": "code",
        "colab": {
          "base_uri": "https://localhost:8080/",
          "height": 67
        },
        "outputId": "6f851262-20d8-4b9f-dc22-dd11336a9dd9"
      },
      "source": [
        "churn_data['Exited'].value_counts()"
      ],
      "execution_count": 21,
      "outputs": [
        {
          "output_type": "execute_result",
          "data": {
            "text/plain": [
              "0    7963\n",
              "1    2037\n",
              "Name: Exited, dtype: int64"
            ]
          },
          "metadata": {
            "tags": []
          },
          "execution_count": 21
        }
      ]
    },
    {
      "cell_type": "code",
      "metadata": {
        "id": "z4NcplYOLLQN",
        "colab_type": "code",
        "colab": {
          "base_uri": "https://localhost:8080/",
          "height": 269
        },
        "outputId": "f05961aa-b1e9-4bdd-998d-422e590eac44"
      },
      "source": [
        "churn_data.dtypes"
      ],
      "execution_count": 22,
      "outputs": [
        {
          "output_type": "execute_result",
          "data": {
            "text/plain": [
              "RowNumber            int64\n",
              "CustomerId           int64\n",
              "Surname             object\n",
              "CreditScore          int64\n",
              "Geography           object\n",
              "Gender              object\n",
              "Age                  int64\n",
              "Tenure               int64\n",
              "Balance            float64\n",
              "NumOfProducts        int64\n",
              "HasCrCard            int64\n",
              "IsActiveMember       int64\n",
              "EstimatedSalary    float64\n",
              "Exited               int64\n",
              "dtype: object"
            ]
          },
          "metadata": {
            "tags": []
          },
          "execution_count": 22
        }
      ]
    },
    {
      "cell_type": "code",
      "metadata": {
        "id": "61tnadGmLRmY",
        "colab_type": "code",
        "colab": {}
      },
      "source": [
        ""
      ],
      "execution_count": 0,
      "outputs": []
    },
    {
      "cell_type": "code",
      "metadata": {
        "id": "vNMQlzv8JTuv",
        "colab_type": "code",
        "colab": {
          "base_uri": "https://localhost:8080/",
          "height": 269
        },
        "outputId": "f8b5e38d-4bbc-4fc3-f446-57ad31e2326b"
      },
      "source": [
        "## Checking for null values in the data:\n",
        "((churn_data.isna().sum()/len(churn_data))*100).round(2)"
      ],
      "execution_count": 23,
      "outputs": [
        {
          "output_type": "execute_result",
          "data": {
            "text/plain": [
              "RowNumber          0.0\n",
              "CustomerId         0.0\n",
              "Surname            0.0\n",
              "CreditScore        0.0\n",
              "Geography          0.0\n",
              "Gender             0.0\n",
              "Age                0.0\n",
              "Tenure             0.0\n",
              "Balance            0.0\n",
              "NumOfProducts      0.0\n",
              "HasCrCard          0.0\n",
              "IsActiveMember     0.0\n",
              "EstimatedSalary    0.0\n",
              "Exited             0.0\n",
              "dtype: float64"
            ]
          },
          "metadata": {
            "tags": []
          },
          "execution_count": 23
        }
      ]
    },
    {
      "cell_type": "code",
      "metadata": {
        "id": "XbmhLJkSLdIi",
        "colab_type": "code",
        "colab": {}
      },
      "source": [
        "# No null values exist"
      ],
      "execution_count": 0,
      "outputs": []
    },
    {
      "cell_type": "code",
      "metadata": {
        "id": "DiOnosEDLSL5",
        "colab_type": "code",
        "colab": {
          "base_uri": "https://localhost:8080/",
          "height": 50
        },
        "outputId": "d5e6d6af-9701-4905-f9b8-2c9a45913028"
      },
      "source": [
        "churn_data.duplicated(keep = \"first\").value_counts()"
      ],
      "execution_count": 24,
      "outputs": [
        {
          "output_type": "execute_result",
          "data": {
            "text/plain": [
              "False    10000\n",
              "dtype: int64"
            ]
          },
          "metadata": {
            "tags": []
          },
          "execution_count": 24
        }
      ]
    },
    {
      "cell_type": "code",
      "metadata": {
        "id": "j_IviqbFLhQi",
        "colab_type": "code",
        "colab": {}
      },
      "source": [
        "# No duplicate values exist"
      ],
      "execution_count": 0,
      "outputs": []
    },
    {
      "cell_type": "code",
      "metadata": {
        "id": "N2JiynSSLmg1",
        "colab_type": "code",
        "colab": {
          "base_uri": "https://localhost:8080/",
          "height": 373
        },
        "outputId": "9d9242b1-ffca-47df-80c7-fd4a0fd780b0"
      },
      "source": [
        "churn_data.corr()"
      ],
      "execution_count": 27,
      "outputs": [
        {
          "output_type": "execute_result",
          "data": {
            "text/html": [
              "<div>\n",
              "<style scoped>\n",
              "    .dataframe tbody tr th:only-of-type {\n",
              "        vertical-align: middle;\n",
              "    }\n",
              "\n",
              "    .dataframe tbody tr th {\n",
              "        vertical-align: top;\n",
              "    }\n",
              "\n",
              "    .dataframe thead th {\n",
              "        text-align: right;\n",
              "    }\n",
              "</style>\n",
              "<table border=\"1\" class=\"dataframe\">\n",
              "  <thead>\n",
              "    <tr style=\"text-align: right;\">\n",
              "      <th></th>\n",
              "      <th>RowNumber</th>\n",
              "      <th>CustomerId</th>\n",
              "      <th>CreditScore</th>\n",
              "      <th>Age</th>\n",
              "      <th>Tenure</th>\n",
              "      <th>Balance</th>\n",
              "      <th>NumOfProducts</th>\n",
              "      <th>HasCrCard</th>\n",
              "      <th>IsActiveMember</th>\n",
              "      <th>EstimatedSalary</th>\n",
              "      <th>Exited</th>\n",
              "    </tr>\n",
              "  </thead>\n",
              "  <tbody>\n",
              "    <tr>\n",
              "      <th>RowNumber</th>\n",
              "      <td>1.000000</td>\n",
              "      <td>0.004202</td>\n",
              "      <td>0.005840</td>\n",
              "      <td>0.000783</td>\n",
              "      <td>-0.006495</td>\n",
              "      <td>-0.009067</td>\n",
              "      <td>0.007246</td>\n",
              "      <td>0.000599</td>\n",
              "      <td>0.012044</td>\n",
              "      <td>-0.005988</td>\n",
              "      <td>-0.016571</td>\n",
              "    </tr>\n",
              "    <tr>\n",
              "      <th>CustomerId</th>\n",
              "      <td>0.004202</td>\n",
              "      <td>1.000000</td>\n",
              "      <td>0.005308</td>\n",
              "      <td>0.009497</td>\n",
              "      <td>-0.014883</td>\n",
              "      <td>-0.012419</td>\n",
              "      <td>0.016972</td>\n",
              "      <td>-0.014025</td>\n",
              "      <td>0.001665</td>\n",
              "      <td>0.015271</td>\n",
              "      <td>-0.006248</td>\n",
              "    </tr>\n",
              "    <tr>\n",
              "      <th>CreditScore</th>\n",
              "      <td>0.005840</td>\n",
              "      <td>0.005308</td>\n",
              "      <td>1.000000</td>\n",
              "      <td>-0.003965</td>\n",
              "      <td>0.000842</td>\n",
              "      <td>0.006268</td>\n",
              "      <td>0.012238</td>\n",
              "      <td>-0.005458</td>\n",
              "      <td>0.025651</td>\n",
              "      <td>-0.001384</td>\n",
              "      <td>-0.027094</td>\n",
              "    </tr>\n",
              "    <tr>\n",
              "      <th>Age</th>\n",
              "      <td>0.000783</td>\n",
              "      <td>0.009497</td>\n",
              "      <td>-0.003965</td>\n",
              "      <td>1.000000</td>\n",
              "      <td>-0.009997</td>\n",
              "      <td>0.028308</td>\n",
              "      <td>-0.030680</td>\n",
              "      <td>-0.011721</td>\n",
              "      <td>0.085472</td>\n",
              "      <td>-0.007201</td>\n",
              "      <td>0.285323</td>\n",
              "    </tr>\n",
              "    <tr>\n",
              "      <th>Tenure</th>\n",
              "      <td>-0.006495</td>\n",
              "      <td>-0.014883</td>\n",
              "      <td>0.000842</td>\n",
              "      <td>-0.009997</td>\n",
              "      <td>1.000000</td>\n",
              "      <td>-0.012254</td>\n",
              "      <td>0.013444</td>\n",
              "      <td>0.022583</td>\n",
              "      <td>-0.028362</td>\n",
              "      <td>0.007784</td>\n",
              "      <td>-0.014001</td>\n",
              "    </tr>\n",
              "    <tr>\n",
              "      <th>Balance</th>\n",
              "      <td>-0.009067</td>\n",
              "      <td>-0.012419</td>\n",
              "      <td>0.006268</td>\n",
              "      <td>0.028308</td>\n",
              "      <td>-0.012254</td>\n",
              "      <td>1.000000</td>\n",
              "      <td>-0.304180</td>\n",
              "      <td>-0.014858</td>\n",
              "      <td>-0.010084</td>\n",
              "      <td>0.012797</td>\n",
              "      <td>0.118533</td>\n",
              "    </tr>\n",
              "    <tr>\n",
              "      <th>NumOfProducts</th>\n",
              "      <td>0.007246</td>\n",
              "      <td>0.016972</td>\n",
              "      <td>0.012238</td>\n",
              "      <td>-0.030680</td>\n",
              "      <td>0.013444</td>\n",
              "      <td>-0.304180</td>\n",
              "      <td>1.000000</td>\n",
              "      <td>0.003183</td>\n",
              "      <td>0.009612</td>\n",
              "      <td>0.014204</td>\n",
              "      <td>-0.047820</td>\n",
              "    </tr>\n",
              "    <tr>\n",
              "      <th>HasCrCard</th>\n",
              "      <td>0.000599</td>\n",
              "      <td>-0.014025</td>\n",
              "      <td>-0.005458</td>\n",
              "      <td>-0.011721</td>\n",
              "      <td>0.022583</td>\n",
              "      <td>-0.014858</td>\n",
              "      <td>0.003183</td>\n",
              "      <td>1.000000</td>\n",
              "      <td>-0.011866</td>\n",
              "      <td>-0.009933</td>\n",
              "      <td>-0.007138</td>\n",
              "    </tr>\n",
              "    <tr>\n",
              "      <th>IsActiveMember</th>\n",
              "      <td>0.012044</td>\n",
              "      <td>0.001665</td>\n",
              "      <td>0.025651</td>\n",
              "      <td>0.085472</td>\n",
              "      <td>-0.028362</td>\n",
              "      <td>-0.010084</td>\n",
              "      <td>0.009612</td>\n",
              "      <td>-0.011866</td>\n",
              "      <td>1.000000</td>\n",
              "      <td>-0.011421</td>\n",
              "      <td>-0.156128</td>\n",
              "    </tr>\n",
              "    <tr>\n",
              "      <th>EstimatedSalary</th>\n",
              "      <td>-0.005988</td>\n",
              "      <td>0.015271</td>\n",
              "      <td>-0.001384</td>\n",
              "      <td>-0.007201</td>\n",
              "      <td>0.007784</td>\n",
              "      <td>0.012797</td>\n",
              "      <td>0.014204</td>\n",
              "      <td>-0.009933</td>\n",
              "      <td>-0.011421</td>\n",
              "      <td>1.000000</td>\n",
              "      <td>0.012097</td>\n",
              "    </tr>\n",
              "    <tr>\n",
              "      <th>Exited</th>\n",
              "      <td>-0.016571</td>\n",
              "      <td>-0.006248</td>\n",
              "      <td>-0.027094</td>\n",
              "      <td>0.285323</td>\n",
              "      <td>-0.014001</td>\n",
              "      <td>0.118533</td>\n",
              "      <td>-0.047820</td>\n",
              "      <td>-0.007138</td>\n",
              "      <td>-0.156128</td>\n",
              "      <td>0.012097</td>\n",
              "      <td>1.000000</td>\n",
              "    </tr>\n",
              "  </tbody>\n",
              "</table>\n",
              "</div>"
            ],
            "text/plain": [
              "                 RowNumber  CustomerId  ...  EstimatedSalary    Exited\n",
              "RowNumber         1.000000    0.004202  ...        -0.005988 -0.016571\n",
              "CustomerId        0.004202    1.000000  ...         0.015271 -0.006248\n",
              "CreditScore       0.005840    0.005308  ...        -0.001384 -0.027094\n",
              "Age               0.000783    0.009497  ...        -0.007201  0.285323\n",
              "Tenure           -0.006495   -0.014883  ...         0.007784 -0.014001\n",
              "Balance          -0.009067   -0.012419  ...         0.012797  0.118533\n",
              "NumOfProducts     0.007246    0.016972  ...         0.014204 -0.047820\n",
              "HasCrCard         0.000599   -0.014025  ...        -0.009933 -0.007138\n",
              "IsActiveMember    0.012044    0.001665  ...        -0.011421 -0.156128\n",
              "EstimatedSalary  -0.005988    0.015271  ...         1.000000  0.012097\n",
              "Exited           -0.016571   -0.006248  ...         0.012097  1.000000\n",
              "\n",
              "[11 rows x 11 columns]"
            ]
          },
          "metadata": {
            "tags": []
          },
          "execution_count": 27
        }
      ]
    },
    {
      "cell_type": "code",
      "metadata": {
        "id": "kAKm23zoTWjF",
        "colab_type": "code",
        "colab": {
          "base_uri": "https://localhost:8080/",
          "height": 358
        },
        "outputId": "e85f7298-e035-43eb-afd5-de9e049f5739"
      },
      "source": [
        "import seaborn as sns\n",
        "sns.heatmap(churn_data.corr(), cmap=sns.diverging_palette(20, 220, n=200))"
      ],
      "execution_count": 30,
      "outputs": [
        {
          "output_type": "execute_result",
          "data": {
            "text/plain": [
              "<matplotlib.axes._subplots.AxesSubplot at 0x7f7a97ac2a20>"
            ]
          },
          "metadata": {
            "tags": []
          },
          "execution_count": 30
        },
        {
          "output_type": "display_data",
          "data": {
            "image/png": "[encoded data removed]",
            "text/plain": [
              "<Figure size 432x288 with 2 Axes>"
            ]
          },
          "metadata": {
            "tags": [],
            "needs_background": "light"
          }
        }
      ]
    },
    {
      "cell_type": "code",
      "metadata": {
        "id": "xBMYry0iT7IP",
        "colab_type": "code",
        "colab": {}
      },
      "source": [
        "# Finding top 10 unique absolute correlations"
      ],
      "execution_count": 0,
      "outputs": []
    },
    {
      "cell_type": "code",
      "metadata": {
        "id": "TrZu_4ImUPBG",
        "colab_type": "code",
        "colab": {}
      },
      "source": [
        "def get_redundant_pairs(df):\n",
        "    pairs_to_drop = set()\n",
        "    cols = df.columns\n",
        "    for i in range(0, df.shape[1]):\n",
        "        for j in range(0, i+1):\n",
        "            pairs_to_drop.add((cols[i], cols[j]))\n",
        "    return pairs_to_drop\n",
        "\n",
        "def get_top_abs_correlations(df, n=5):\n",
        "    au_corr = df.corr().abs().unstack()\n",
        "    labels_to_drop = get_redundant_pairs(df)\n",
        "    au_corr = au_corr.drop(labels=labels_to_drop).sort_values(ascending=False)\n",
        "    return au_corr[0:n]\n"
      ],
      "execution_count": 0,
      "outputs": []
    },
    {
      "cell_type": "code",
      "metadata": {
        "id": "Z2uCireEUS32",
        "colab_type": "code",
        "colab": {
          "base_uri": "https://localhost:8080/",
          "height": 235
        },
        "outputId": "ec71d00c-0847-4c01-b9e6-1920e444fe72"
      },
      "source": [
        "print(\"Top Absolute Correlations for DEFAULT category are as follows :\")\n",
        "print()\n",
        "print(get_top_abs_correlations(churn_data.select_dtypes(include=['float64', 'int64']), 10))"
      ],
      "execution_count": 39,
      "outputs": [
        {
          "output_type": "stream",
          "text": [
            "Top Absolute Correlations for DEFAULT category are as follows :\n",
            "\n",
            "Balance         NumOfProducts     0.304180\n",
            "Age             Exited            0.285323\n",
            "IsActiveMember  Exited            0.156128\n",
            "Balance         Exited            0.118533\n",
            "Age             IsActiveMember    0.085472\n",
            "NumOfProducts   Exited            0.047820\n",
            "Age             NumOfProducts     0.030680\n",
            "Tenure          IsActiveMember    0.028362\n",
            "Age             Balance           0.028308\n",
            "CreditScore     Exited            0.027094\n",
            "dtype: float64\n"
          ],
          "name": "stdout"
        }
      ]
    },
    {
      "cell_type": "code",
      "metadata": {
        "id": "r4M074JYUeW-",
        "colab_type": "code",
        "colab": {}
      },
      "source": [
        "## Data Preprocessing "
      ],
      "execution_count": 0,
      "outputs": []
    },
    {
      "cell_type": "code",
      "metadata": {
        "id": "Pc3At32MVet7",
        "colab_type": "code",
        "colab": {}
      },
      "source": [
        "X = churn_data.iloc[:, 3:-1].values\n",
        "y = churn_data.iloc[:, -1].values"
      ],
      "execution_count": 0,
      "outputs": []
    },
    {
      "cell_type": "code",
      "metadata": {
        "id": "nBsPdkWoWUtH",
        "colab_type": "code",
        "colab": {
          "base_uri": "https://localhost:8080/",
          "height": 134
        },
        "outputId": "8ba30a17-9b38-41ef-d854-60976e3662c8"
      },
      "source": [
        "print(X)"
      ],
      "execution_count": 42,
      "outputs": [
        {
          "output_type": "stream",
          "text": [
            "[[619 'France' 'Female' ... 1 1 101348.88]\n",
            " [608 'Spain' 'Female' ... 0 1 112542.58]\n",
            " [502 'France' 'Female' ... 1 0 113931.57]\n",
            " ...\n",
            " [709 'France' 'Female' ... 0 1 42085.58]\n",
            " [772 'Germany' 'Male' ... 1 0 92888.52]\n",
            " [792 'France' 'Female' ... 1 0 38190.78]]\n"
          ],
          "name": "stdout"
        }
      ]
    },
    {
      "cell_type": "code",
      "metadata": {
        "id": "LsXkRtYNWYTZ",
        "colab_type": "code",
        "colab": {
          "base_uri": "https://localhost:8080/",
          "height": 34
        },
        "outputId": "f32fe047-7e50-403c-a668-60fd6fcf129b"
      },
      "source": [
        "print(y)"
      ],
      "execution_count": 43,
      "outputs": [
        {
          "output_type": "stream",
          "text": [
            "[1 0 1 ... 1 1 0]\n"
          ],
          "name": "stdout"
        }
      ]
    },
    {
      "cell_type": "code",
      "metadata": {
        "id": "Z23B9skcWZk1",
        "colab_type": "code",
        "colab": {}
      },
      "source": [
        "# Encoding the categorical data:\n",
        "\n",
        "# 'Gender' column\n",
        "\n",
        "from sklearn.preprocessing import LabelEncoder\n",
        "le = LabelEncoder()\n",
        "X[:, 2] = le.fit_transform(X[:, 2])"
      ],
      "execution_count": 0,
      "outputs": []
    },
    {
      "cell_type": "code",
      "metadata": {
        "id": "1lNzaPROXBfI",
        "colab_type": "code",
        "colab": {
          "base_uri": "https://localhost:8080/",
          "height": 134
        },
        "outputId": "9984e5e4-4469-44e2-a9bf-8197d859d53e"
      },
      "source": [
        "print(X)"
      ],
      "execution_count": 45,
      "outputs": [
        {
          "output_type": "stream",
          "text": [
            "[[619 'France' 0 ... 1 1 101348.88]\n",
            " [608 'Spain' 0 ... 0 1 112542.58]\n",
            " [502 'France' 0 ... 1 0 113931.57]\n",
            " ...\n",
            " [709 'France' 0 ... 0 1 42085.58]\n",
            " [772 'Germany' 1 ... 1 0 92888.52]\n",
            " [792 'France' 0 ... 1 0 38190.78]]\n"
          ],
          "name": "stdout"
        }
      ]
    },
    {
      "cell_type": "code",
      "metadata": {
        "id": "l5Ay-JOmXC34",
        "colab_type": "code",
        "colab": {}
      },
      "source": [
        "# Encoding the categorical data:\n",
        "\n",
        "# 'Geography' column\n",
        "\n",
        "from sklearn.compose import ColumnTransformer\n",
        "from sklearn.preprocessing import OneHotEncoder\n",
        "\n",
        "ct = ColumnTransformer( transformers = [('encoder', OneHotEncoder(), [1]) ], remainder = 'passthrough')\n",
        "X = np.array(ct.fit_transform(X))"
      ],
      "execution_count": 0,
      "outputs": []
    },
    {
      "cell_type": "code",
      "metadata": {
        "id": "tkF81bBUYHGS",
        "colab_type": "code",
        "colab": {
          "base_uri": "https://localhost:8080/",
          "height": 134
        },
        "outputId": "fd094c9e-4b19-4f49-9d02-c76252fa2c65"
      },
      "source": [
        "print(X)"
      ],
      "execution_count": 47,
      "outputs": [
        {
          "output_type": "stream",
          "text": [
            "[[1.0 0.0 0.0 ... 1 1 101348.88]\n",
            " [0.0 0.0 1.0 ... 0 1 112542.58]\n",
            " [1.0 0.0 0.0 ... 1 0 113931.57]\n",
            " ...\n",
            " [1.0 0.0 0.0 ... 0 1 42085.58]\n",
            " [0.0 1.0 0.0 ... 1 0 92888.52]\n",
            " [1.0 0.0 0.0 ... 1 0 38190.78]]\n"
          ],
          "name": "stdout"
        }
      ]
    },
    {
      "cell_type": "code",
      "metadata": {
        "id": "N9AG9mOjYKrw",
        "colab_type": "code",
        "colab": {}
      },
      "source": [
        "# Spliting the data into training set and test set:\n",
        "from sklearn.model_selection import train_test_split\n",
        "X_train, X_test, y_train, y_test = train_test_split(X, y, test_size = 0.2, random_state = 0)"
      ],
      "execution_count": 0,
      "outputs": []
    },
    {
      "cell_type": "code",
      "metadata": {
        "id": "uUDGYVvpYvOl",
        "colab_type": "code",
        "colab": {}
      },
      "source": [
        "# Feature Scaling\n",
        "\n",
        "from sklearn.preprocessing import StandardScaler\n",
        "sc = StandardScaler()\n",
        "\n",
        "X_train = sc.fit_transform(X_train)\n",
        "X_test = sc.transform(X_test)"
      ],
      "execution_count": 0,
      "outputs": []
    },
    {
      "cell_type": "code",
      "metadata": {
        "id": "WnW7gVFmaOA6",
        "colab_type": "code",
        "colab": {
          "base_uri": "https://localhost:8080/",
          "height": 235
        },
        "outputId": "ec275a69-f1fd-4839-8597-a46075523ac2"
      },
      "source": [
        "# All columns have been scaled \n",
        "print(X_train)"
      ],
      "execution_count": 52,
      "outputs": [
        {
          "output_type": "stream",
          "text": [
            "[[-1.01460667 -0.5698444   1.74309049 ...  0.64259497 -1.03227043\n",
            "   1.10643166]\n",
            " [-1.01460667  1.75486502 -0.57369368 ...  0.64259497  0.9687384\n",
            "  -0.74866447]\n",
            " [ 0.98560362 -0.5698444  -0.57369368 ...  0.64259497 -1.03227043\n",
            "   1.48533467]\n",
            " ...\n",
            " [ 0.98560362 -0.5698444  -0.57369368 ...  0.64259497 -1.03227043\n",
            "   1.41231994]\n",
            " [-1.01460667 -0.5698444   1.74309049 ...  0.64259497  0.9687384\n",
            "   0.84432121]\n",
            " [-1.01460667  1.75486502 -0.57369368 ...  0.64259497 -1.03227043\n",
            "   0.32472465]]\n"
          ],
          "name": "stdout"
        }
      ]
    },
    {
      "cell_type": "code",
      "metadata": {
        "id": "ECRPfZn-aRGV",
        "colab_type": "code",
        "colab": {}
      },
      "source": [
        "# Building the ANN:\n",
        "ann = tf.keras.models.Sequential()\n",
        "\n",
        "# Input layer and first layer:\n",
        "ann.add(tf.keras.layers.Dense(units = 8, activation= 'relu'))\n",
        "\n",
        "# second layer:\n",
        "ann.add(tf.keras.layers.Dense(units = 8, activation= 'relu'))\n",
        "\n",
        "# output layer:\n",
        "ann.add(tf.keras.layers.Dense( units = 1, activation = 'sigmoid'))"
      ],
      "execution_count": 0,
      "outputs": []
    },
    {
      "cell_type": "code",
      "metadata": {
        "id": "hUpjSqZIcAQy",
        "colab_type": "code",
        "colab": {}
      },
      "source": [
        "# Compiling the ann:\n",
        "ann.compile( optimizer= 'adam', loss = 'binary_crossentropy', metrics = ['accuracy'])"
      ],
      "execution_count": 0,
      "outputs": []
    },
    {
      "cell_type": "code",
      "metadata": {
        "id": "qcDpHTw5cmUr",
        "colab_type": "code",
        "colab": {
          "base_uri": "https://localhost:8080/",
          "height": 1000
        },
        "outputId": "a74aa981-25f8-4777-d5cc-e6871a67421e"
      },
      "source": [
        "ann.fit( X_train, y_train, batch_size = 16, epochs = 50)"
      ],
      "execution_count": 57,
      "outputs": [
        {
          "output_type": "stream",
          "text": [
            "Epoch 1/50\n",
            "500/500 [==============================] - 1s 1ms/step - loss: 0.5209 - accuracy: 0.7950\n",
            "Epoch 2/50\n",
            "500/500 [==============================] - 1s 1ms/step - loss: 0.4517 - accuracy: 0.7960\n",
            "Epoch 3/50\n",
            "500/500 [==============================] - 1s 1ms/step - loss: 0.4332 - accuracy: 0.7960\n",
            "Epoch 4/50\n",
            "500/500 [==============================] - 1s 1ms/step - loss: 0.4238 - accuracy: 0.7974\n",
            "Epoch 5/50\n",
            "500/500 [==============================] - 1s 1ms/step - loss: 0.4155 - accuracy: 0.7997\n",
            "Epoch 6/50\n",
            "500/500 [==============================] - 1s 1ms/step - loss: 0.4055 - accuracy: 0.8196\n",
            "Epoch 7/50\n",
            "500/500 [==============================] - 1s 1ms/step - loss: 0.3940 - accuracy: 0.8322\n",
            "Epoch 8/50\n",
            "500/500 [==============================] - 1s 1ms/step - loss: 0.3850 - accuracy: 0.8355\n",
            "Epoch 9/50\n",
            "500/500 [==============================] - 1s 1ms/step - loss: 0.3783 - accuracy: 0.8410\n",
            "Epoch 10/50\n",
            "500/500 [==============================] - 1s 1ms/step - loss: 0.3727 - accuracy: 0.8428\n",
            "Epoch 11/50\n",
            "500/500 [==============================] - 1s 1ms/step - loss: 0.3680 - accuracy: 0.8464\n",
            "Epoch 12/50\n",
            "500/500 [==============================] - 1s 1ms/step - loss: 0.3646 - accuracy: 0.8491\n",
            "Epoch 13/50\n",
            "500/500 [==============================] - 1s 1ms/step - loss: 0.3613 - accuracy: 0.8516\n",
            "Epoch 14/50\n",
            "500/500 [==============================] - 1s 1ms/step - loss: 0.3578 - accuracy: 0.8524\n",
            "Epoch 15/50\n",
            "500/500 [==============================] - 1s 1ms/step - loss: 0.3556 - accuracy: 0.8544\n",
            "Epoch 16/50\n",
            "500/500 [==============================] - 1s 1ms/step - loss: 0.3537 - accuracy: 0.8560\n",
            "Epoch 17/50\n",
            "500/500 [==============================] - 1s 1ms/step - loss: 0.3517 - accuracy: 0.8574\n",
            "Epoch 18/50\n",
            "500/500 [==============================] - 1s 1ms/step - loss: 0.3500 - accuracy: 0.8558\n",
            "Epoch 19/50\n",
            "500/500 [==============================] - 1s 1ms/step - loss: 0.3491 - accuracy: 0.8586\n",
            "Epoch 20/50\n",
            "500/500 [==============================] - 1s 1ms/step - loss: 0.3480 - accuracy: 0.8586\n",
            "Epoch 21/50\n",
            "500/500 [==============================] - 1s 1ms/step - loss: 0.3466 - accuracy: 0.8604\n",
            "Epoch 22/50\n",
            "500/500 [==============================] - 1s 1ms/step - loss: 0.3460 - accuracy: 0.8599\n",
            "Epoch 23/50\n",
            "500/500 [==============================] - 1s 1ms/step - loss: 0.3449 - accuracy: 0.8604\n",
            "Epoch 24/50\n",
            "500/500 [==============================] - 1s 1ms/step - loss: 0.3445 - accuracy: 0.8604\n",
            "Epoch 25/50\n",
            "500/500 [==============================] - 1s 1ms/step - loss: 0.3436 - accuracy: 0.8620\n",
            "Epoch 26/50\n",
            "500/500 [==============================] - 1s 1ms/step - loss: 0.3433 - accuracy: 0.8612\n",
            "Epoch 27/50\n",
            "500/500 [==============================] - 1s 1ms/step - loss: 0.3427 - accuracy: 0.8618\n",
            "Epoch 28/50\n",
            "500/500 [==============================] - 1s 1ms/step - loss: 0.3414 - accuracy: 0.8616\n",
            "Epoch 29/50\n",
            "500/500 [==============================] - 1s 1ms/step - loss: 0.3411 - accuracy: 0.8640\n",
            "Epoch 30/50\n",
            "500/500 [==============================] - 1s 1ms/step - loss: 0.3412 - accuracy: 0.8627\n",
            "Epoch 31/50\n",
            "500/500 [==============================] - 1s 1ms/step - loss: 0.3406 - accuracy: 0.8635\n",
            "Epoch 32/50\n",
            "500/500 [==============================] - 1s 1ms/step - loss: 0.3402 - accuracy: 0.8621\n",
            "Epoch 33/50\n",
            "500/500 [==============================] - 1s 1ms/step - loss: 0.3401 - accuracy: 0.8630\n",
            "Epoch 34/50\n",
            "500/500 [==============================] - 1s 1ms/step - loss: 0.3396 - accuracy: 0.8624\n",
            "Epoch 35/50\n",
            "500/500 [==============================] - 1s 1ms/step - loss: 0.3390 - accuracy: 0.8634\n",
            "Epoch 36/50\n",
            "500/500 [==============================] - 1s 1ms/step - loss: 0.3386 - accuracy: 0.8629\n",
            "Epoch 37/50\n",
            "500/500 [==============================] - 1s 1ms/step - loss: 0.3384 - accuracy: 0.8639\n",
            "Epoch 38/50\n",
            "500/500 [==============================] - 1s 1ms/step - loss: 0.3387 - accuracy: 0.8624\n",
            "Epoch 39/50\n",
            "500/500 [==============================] - 1s 1ms/step - loss: 0.3378 - accuracy: 0.8637\n",
            "Epoch 40/50\n",
            "500/500 [==============================] - 1s 1ms/step - loss: 0.3378 - accuracy: 0.8635\n",
            "Epoch 41/50\n",
            "500/500 [==============================] - 1s 1ms/step - loss: 0.3371 - accuracy: 0.8640\n",
            "Epoch 42/50\n",
            "500/500 [==============================] - 1s 1ms/step - loss: 0.3375 - accuracy: 0.8630\n",
            "Epoch 43/50\n",
            "500/500 [==============================] - 1s 1ms/step - loss: 0.3363 - accuracy: 0.8643\n",
            "Epoch 44/50\n",
            "500/500 [==============================] - 1s 1ms/step - loss: 0.3376 - accuracy: 0.8624\n",
            "Epoch 45/50\n",
            "500/500 [==============================] - 1s 1ms/step - loss: 0.3367 - accuracy: 0.8643\n",
            "Epoch 46/50\n",
            "500/500 [==============================] - 1s 1ms/step - loss: 0.3363 - accuracy: 0.8649\n",
            "Epoch 47/50\n",
            "500/500 [==============================] - 1s 1ms/step - loss: 0.3362 - accuracy: 0.8621\n",
            "Epoch 48/50\n",
            "500/500 [==============================] - 1s 1ms/step - loss: 0.3360 - accuracy: 0.8634\n",
            "Epoch 49/50\n",
            "500/500 [==============================] - 1s 1ms/step - loss: 0.3357 - accuracy: 0.8630\n",
            "Epoch 50/50\n",
            "500/500 [==============================] - 1s 1ms/step - loss: 0.3361 - accuracy: 0.8636\n"
          ],
          "name": "stdout"
        },
        {
          "output_type": "execute_result",
          "data": {
            "text/plain": [
              "<tensorflow.python.keras.callbacks.History at 0x7f7a950ca588>"
            ]
          },
          "metadata": {
            "tags": []
          },
          "execution_count": 57
        }
      ]
    },
    {
      "cell_type": "code",
      "metadata": {
        "id": "GPrwpouacmMc",
        "colab_type": "code",
        "colab": {}
      },
      "source": [
        "# making predictions:\n",
        "\n",
        "y_pred = ann.predict(X_test)"
      ],
      "execution_count": 0,
      "outputs": []
    },
    {
      "cell_type": "code",
      "metadata": {
        "id": "Gx5glqYrkAzx",
        "colab_type": "code",
        "colab": {
          "base_uri": "https://localhost:8080/",
          "height": 134
        },
        "outputId": "d30d4619-b988-4854-986e-5b83f84ab3ff"
      },
      "source": [
        "print(y_pred)"
      ],
      "execution_count": 59,
      "outputs": [
        {
          "output_type": "stream",
          "text": [
            "[[0.24760693]\n",
            " [0.40834236]\n",
            " [0.0981532 ]\n",
            " ...\n",
            " [0.1534087 ]\n",
            " [0.18316013]\n",
            " [0.1762394 ]]\n"
          ],
          "name": "stdout"
        }
      ]
    },
    {
      "cell_type": "code",
      "metadata": {
        "id": "nX-BMNJLkC3X",
        "colab_type": "code",
        "colab": {}
      },
      "source": [
        "y_pred = (y_pred > 0.5 )"
      ],
      "execution_count": 0,
      "outputs": []
    },
    {
      "cell_type": "code",
      "metadata": {
        "id": "33m6U7lMkReX",
        "colab_type": "code",
        "colab": {
          "base_uri": "https://localhost:8080/",
          "height": 134
        },
        "outputId": "ca1653f4-a122-4ec3-c6f8-26a838c112cf"
      },
      "source": [
        "print(y_pred)"
      ],
      "execution_count": 65,
      "outputs": [
        {
          "output_type": "stream",
          "text": [
            "[[False]\n",
            " [False]\n",
            " [False]\n",
            " ...\n",
            " [False]\n",
            " [False]\n",
            " [False]]\n"
          ],
          "name": "stdout"
        }
      ]
    },
    {
      "cell_type": "code",
      "metadata": {
        "id": "EJpsZa_ukTTe",
        "colab_type": "code",
        "colab": {
          "base_uri": "https://localhost:8080/",
          "height": 67
        },
        "outputId": "1a6a61b1-b5c5-4948-d280-a31d77752533"
      },
      "source": [
        "from sklearn.metrics import confusion_matrix, accuracy_score\n",
        "cm = confusion_matrix(y_test, y_pred)\n",
        "print(cm)\n",
        "accuracy_score(y_test, y_pred)"
      ],
      "execution_count": 66,
      "outputs": [
        {
          "output_type": "stream",
          "text": [
            "[[1500   95]\n",
            " [ 186  219]]\n"
          ],
          "name": "stdout"
        },
        {
          "output_type": "execute_result",
          "data": {
            "text/plain": [
              "0.8595"
            ]
          },
          "metadata": {
            "tags": []
          },
          "execution_count": 66
        }
      ]
    },
    {
      "cell_type": "code",
      "metadata": {
        "id": "X5N7d2X3k1hm",
        "colab_type": "code",
        "colab": {}
      },
      "source": [
        ""
      ],
      "execution_count": 0,
      "outputs": []
    }
  ]
}
